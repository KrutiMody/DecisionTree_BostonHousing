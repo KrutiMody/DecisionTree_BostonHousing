{
 "cells": [
  {
   "cell_type": "code",
   "execution_count": 1,
   "id": "fbd42e8e-0033-4a0a-9da5-741decadafd4",
   "metadata": {},
   "outputs": [],
   "source": [
    "import matplotlib.pyplot as plt\n",
    "plt.style.use(['fivethirtyeight','ggplot'])\n",
    "import numpy as np\n",
    "import pandas as pd\n",
    "from sklearn.metrics import mean_squared_error, r2_score\n",
    "from sklearn.preprocessing import StandardScaler\n",
    "from sklearn.model_selection import train_test_split, cross_validate, cross_val_score\n",
    "from sklearn.linear_model import SGDRegressor\n",
    "import seaborn as sns\n",
    "from sklearn.pipeline import Pipeline, make_pipeline"
   ]
  },
  {
   "cell_type": "code",
   "execution_count": 2,
   "id": "22836e65-5831-4162-9f15-a9d480859e72",
   "metadata": {},
   "outputs": [],
   "source": [
    "from sklearn.datasets import load_boston\n",
    "boston = load_boston()"
   ]
  },
  {
   "cell_type": "code",
   "execution_count": 3,
   "id": "eb3ff1ed-6285-4f6d-af70-8bb754c169a1",
   "metadata": {},
   "outputs": [],
   "source": [
    "df_data = pd.DataFrame(boston.data, columns=boston.feature_names)"
   ]
  },
  {
   "cell_type": "code",
   "execution_count": 4,
   "id": "d50c0266-bbd4-4f8b-9985-4bab20a8e751",
   "metadata": {},
   "outputs": [],
   "source": [
    "df_data[\"MEDV\"] = boston.target\n"
   ]
  },
  {
   "cell_type": "code",
   "execution_count": 5,
   "id": "91c9d486-ad51-42b0-ac43-7f799c6644f5",
   "metadata": {},
   "outputs": [],
   "source": [
    "all_features = ['CRIM', 'ZN', 'INDUS', 'CHAS', 'NOX', 'RM', 'AGE', 'DIS', 'RAD', 'TAX', 'PTRATIO', 'B', 'LSTAT', \"MEDV\"]"
   ]
  },
  {
   "cell_type": "code",
   "execution_count": 6,
   "id": "4eef3f2d-09cc-4d2f-a23e-701f478bcabf",
   "metadata": {},
   "outputs": [
    {
     "name": "stdout",
     "output_type": "stream",
     "text": [
      ".. _boston_dataset:\n",
      "\n",
      "Boston house prices dataset\n",
      "---------------------------\n",
      "\n",
      "**Data Set Characteristics:**  \n",
      "\n",
      "    :Number of Instances: 506 \n",
      "\n",
      "    :Number of Attributes: 13 numeric/categorical predictive. Median Value (attribute 14) is usually the target.\n",
      "\n",
      "    :Attribute Information (in order):\n",
      "        - CRIM     per capita crime rate by town\n",
      "        - ZN       proportion of residential land zoned for lots over 25,000 sq.ft.\n",
      "        - INDUS    proportion of non-retail business acres per town\n",
      "        - CHAS     Charles River dummy variable (= 1 if tract bounds river; 0 otherwise)\n",
      "        - NOX      nitric oxides concentration (parts per 10 million)\n",
      "        - RM       average number of rooms per dwelling\n",
      "        - AGE      proportion of owner-occupied units built prior to 1940\n",
      "        - DIS      weighted distances to five Boston employment centres\n",
      "        - RAD      index of accessibility to radial highways\n",
      "        - TAX      full-value property-tax rate per $10,000\n",
      "        - PTRATIO  pupil-teacher ratio by town\n",
      "        - B        1000(Bk - 0.63)^2 where Bk is the proportion of black people by town\n",
      "        - LSTAT    % lower status of the population\n",
      "        - MEDV     Median value of owner-occupied homes in $1000's\n",
      "\n",
      "    :Missing Attribute Values: None\n",
      "\n",
      "    :Creator: Harrison, D. and Rubinfeld, D.L.\n",
      "\n",
      "This is a copy of UCI ML housing dataset.\n",
      "https://archive.ics.uci.edu/ml/machine-learning-databases/housing/\n",
      "\n",
      "\n",
      "This dataset was taken from the StatLib library which is maintained at Carnegie Mellon University.\n",
      "\n",
      "The Boston house-price data of Harrison, D. and Rubinfeld, D.L. 'Hedonic\n",
      "prices and the demand for clean air', J. Environ. Economics & Management,\n",
      "vol.5, 81-102, 1978.   Used in Belsley, Kuh & Welsch, 'Regression diagnostics\n",
      "...', Wiley, 1980.   N.B. Various transformations are used in the table on\n",
      "pages 244-261 of the latter.\n",
      "\n",
      "The Boston house-price data has been used in many machine learning papers that address regression\n",
      "problems.   \n",
      "     \n",
      ".. topic:: References\n",
      "\n",
      "   - Belsley, Kuh & Welsch, 'Regression diagnostics: Identifying Influential Data and Sources of Collinearity', Wiley, 1980. 244-261.\n",
      "   - Quinlan,R. (1993). Combining Instance-Based and Model-Based Learning. In Proceedings on the Tenth International Conference of Machine Learning, 236-243, University of Massachusetts, Amherst. Morgan Kaufmann.\n",
      "\n"
     ]
    }
   ],
   "source": [
    "print(boston.DESCR)\n"
   ]
  },
  {
   "cell_type": "code",
   "execution_count": 7,
   "id": "2426a737-fcb9-4ce6-b57a-ffdddff850ec",
   "metadata": {},
   "outputs": [],
   "source": [
    "feature_cols = ['CRIM', 'ZN', 'INDUS', 'NOX', 'RM', 'AGE', 'DIS', 'RAD', 'TAX', 'PTRATIO', 'B', 'LSTAT', \"MEDV\"]\n"
   ]
  },
  {
   "cell_type": "code",
   "execution_count": 8,
   "id": "6243f95a-130e-4c10-ba51-e6112b784915",
   "metadata": {},
   "outputs": [],
   "source": [
    "X = df_data[feature_cols]\n",
    "y = df_data[\"CHAS\"]"
   ]
  },
  {
   "cell_type": "code",
   "execution_count": 9,
   "id": "1eb4fece-ce94-4ea0-92b4-edce93fcaba1",
   "metadata": {},
   "outputs": [],
   "source": [
    "from sklearn import tree, ensemble"
   ]
  },
  {
   "cell_type": "code",
   "execution_count": 10,
   "id": "7faab186-4b57-4d9b-92e8-4f3b4ac25ef8",
   "metadata": {},
   "outputs": [],
   "source": [
    "np.random.seed(48)\n",
    "clf_dt = make_pipeline( StandardScaler(), tree.DecisionTreeClassifier(max_depth=3))"
   ]
  },
  {
   "cell_type": "code",
   "execution_count": 11,
   "id": "0db49813-d38e-49df-980e-e1710d5ac323",
   "metadata": {},
   "outputs": [],
   "source": [
    "accuracy_results = cross_val_score(clf_dt, X, y, cv=5, scoring = \"accuracy\")"
   ]
  },
  {
   "cell_type": "code",
   "execution_count": 12,
   "id": "4f1c52f3-78ba-462f-afe1-50c2891b7866",
   "metadata": {},
   "outputs": [
    {
     "data": {
      "text/plain": [
       "array([0.79411765, 0.82178218, 0.93069307, 0.83168317, 0.93069307])"
      ]
     },
     "execution_count": 12,
     "metadata": {},
     "output_type": "execute_result"
    }
   ],
   "source": [
    "accuracy_results"
   ]
  },
  {
   "cell_type": "code",
   "execution_count": 13,
   "id": "e0706352-6718-4610-a41b-678140886f65",
   "metadata": {},
   "outputs": [
    {
     "name": "stdout",
     "output_type": "stream",
     "text": [
      "Average Accuracy when max_depth = 3:  86.17938264414677 %\n"
     ]
    }
   ],
   "source": [
    "print(\"Average Accuracy when max_depth = 3: \", 100 * np.mean(accuracy_results), \"%\")"
   ]
  },
  {
   "cell_type": "markdown",
   "id": "7b814c09-4bcb-413c-a63c-59d5e587f2a8",
   "metadata": {},
   "source": [
    "Why does feature selection/scaling doesn't affect the result here?"
   ]
  },
  {
   "cell_type": "markdown",
   "id": "414f82ba-c2d3-4465-9480-84b00f22fd5d",
   "metadata": {},
   "source": [
    "Scaling is not an issue to decision tree like it is to KNN and others. "
   ]
  },
  {
   "cell_type": "code",
   "execution_count": 14,
   "id": "249a9070-d17e-4e70-8385-6254e3cb6c1a",
   "metadata": {},
   "outputs": [],
   "source": [
    "np.random.seed(48)\n",
    "clf_dt = make_pipeline( StandardScaler(), tree.DecisionTreeClassifier(max_depth=10))"
   ]
  },
  {
   "cell_type": "code",
   "execution_count": 15,
   "id": "61c9883a-c94d-442d-8749-e70a07cb1550",
   "metadata": {},
   "outputs": [],
   "source": [
    "accuracy_results = cross_val_score(clf_dt, X, y, cv=5, scoring = \"accuracy\")"
   ]
  },
  {
   "cell_type": "code",
   "execution_count": 16,
   "id": "b2f2d60f-551f-4333-98dd-947e71146ad8",
   "metadata": {},
   "outputs": [
    {
     "name": "stdout",
     "output_type": "stream",
     "text": [
      "Average Accuracy when max_depth = 3:  78.4469035138808 %\n"
     ]
    }
   ],
   "source": [
    "print(\"Average Accuracy when max_depth = 3: \", 100 * np.mean(accuracy_results), \"%\")"
   ]
  },
  {
   "cell_type": "code",
   "execution_count": 17,
   "id": "0ec0ee94-a5b0-4c76-9e1a-7ba6c19565dd",
   "metadata": {},
   "outputs": [
    {
     "name": "stdout",
     "output_type": "stream",
     "text": [
      "[0, nan]\n",
      "[1, 87.14230246554067]\n",
      "[2, 88.33042127742186]\n",
      "[3, 86.17938264414677]\n",
      "[4, 85.76975344593282]\n",
      "[5, 85.57173364395263]\n",
      "[6, 79.23315860997863]\n",
      "[7, 77.2587847019996]\n",
      "[8, 78.64492331586099]\n",
      "[9, 78.64492331586099]\n",
      "[10, 78.4469035138808]\n",
      "[11, 78.4469035138808]\n",
      "[12, 78.4469035138808]\n",
      "[13, 78.4469035138808]\n",
      "[14, 78.4469035138808]\n",
      "[15, 78.4469035138808]\n",
      "[16, 78.4469035138808]\n",
      "[17, 78.4469035138808]\n",
      "[18, 78.4469035138808]\n",
      "[19, 78.4469035138808]\n",
      "[20, 78.4469035138808]\n"
     ]
    }
   ],
   "source": [
    "import warnings\n",
    "warnings.filterwarnings('ignore')\n",
    "acc = []\n",
    "for x in range(21):\n",
    "    np.random.seed(48)\n",
    "    clf_dt = make_pipeline( StandardScaler(), tree.DecisionTreeClassifier(max_depth=x))\n",
    "    accuracy_results = cross_val_score(clf_dt, X, y, cv=5, scoring = \"accuracy\")\n",
    "    acc.append([x, 100 * np.mean(accuracy_results)])\n",
    "    print(acc[x])"
   ]
  },
  {
   "cell_type": "code",
   "execution_count": 18,
   "id": "ec576f45-acc7-4d9a-9e11-0fd7423ce7dd",
   "metadata": {},
   "outputs": [],
   "source": [
    "results_list = []\n",
    "for depth in range(1,20,1):\n",
    "    np.random.seed(48)\n",
    "    clf_dt = make_pipeline( StandardScaler(), tree.DecisionTreeClassifier(max_depth=depth))\n",
    "    accuracy_results = cross_val_score(clf_dt, X, y, cv=5, scoring = \"accuracy\")\n",
    "    results_list.append([depth, 100 * np.mean(accuracy_results)])\n",
    "df_results_list_dt = pd.DataFrame(results_list, columns=[\"Max_Depth\", \"Acc\"])\n"
   ]
  },
  {
   "cell_type": "code",
   "execution_count": 19,
   "id": "a51bb681-a219-4473-be1f-60fbf22aaca0",
   "metadata": {},
   "outputs": [
    {
     "data": {
      "text/plain": [
       "Text(0, 0.5, 'Accuracy / %')"
      ]
     },
     "execution_count": 19,
     "metadata": {},
     "output_type": "execute_result"
    },
    {
     "data": {
      "image/png": "[encoded data removed]",
      "text/plain": [
       "<Figure size 432x288 with 1 Axes>"
      ]
     },
     "metadata": {},
     "output_type": "display_data"
    }
   ],
   "source": [
    "fig, ax = plt.subplots()\n",
    "df_results_list_dt.set_index(\"Max_Depth\")[\"Acc\"].plot(ax = ax)\n",
    "ax.set_title(\"Classifiaction Results with Differnet max_depth in decision tree\")\n",
    "ax.set_xticks(list(range(1,20,2)))\n",
    "ax.set_ylabel(\"Accuracy / %\")\n"
   ]
  },
  {
   "cell_type": "markdown",
   "id": "cb403ec4-a8ce-4eaa-bae5-441bf7ae0f15",
   "metadata": {},
   "source": [
    "Yim's Function"
   ]
  },
  {
   "cell_type": "code",
   "execution_count": 20,
   "id": "38328e56-c232-4fed-88c3-0370de35d055",
   "metadata": {},
   "outputs": [],
   "source": [
    "def clf_range(depth):\n",
    "    clf_dt = make_pipeline( StandardScaler(), tree.DecisionTreeClassifier(max_depth=depth))\n",
    "    accuracy_results = cross_val_score(clf_dt, X, y, cv=5, scoring = \"accuracy\")\n",
    "    return accuracy_results.mean()\n",
    "acc_results = [clf_range(x) for x in range (1,20)]"
   ]
  },
  {
   "cell_type": "code",
   "execution_count": 21,
   "id": "f3d0b89e-0f00-4355-8622-c03b5f80f09c",
   "metadata": {},
   "outputs": [
    {
     "name": "stdout",
     "output_type": "stream",
     "text": [
      "Average Accuracy when max_leaf_node = 3:  87.14230246554067 %\n"
     ]
    }
   ],
   "source": [
    "np.random.seed(48)\n",
    "clf_dt = make_pipeline( StandardScaler(), tree.DecisionTreeClassifier(max_leaf_nodes=3))\n",
    "accuracy_results = cross_val_score(clf_dt, X, y, cv=5, scoring = \"accuracy\")\n",
    "print(\"Average Accuracy when max_leaf_node = 3: \", 100 * np.mean(accuracy_results), \"%\")"
   ]
  },
  {
   "cell_type": "code",
   "execution_count": 23,
   "id": "e5cb7ed5-5a4b-4882-aa2b-b29ea7278c50",
   "metadata": {},
   "outputs": [
    {
     "name": "stdout",
     "output_type": "stream",
     "text": [
      "[0, nan]\n",
      "[1, nan]\n",
      "[2, 87.14230246554067]\n",
      "[3, 87.14230246554067]\n",
      "[4, 84.59522422830518]\n",
      "[5, 85.96777324791303]\n",
      "[6, 84.77965443603183]\n",
      "[7, 85.17569403999224]\n",
      "[8, 84.77965443603183]\n",
      "[9, 82.00737720830907]\n",
      "[10, 82.20345563968161]\n",
      "[11, 83.589594253543]\n",
      "[12, 83.98563385750339]\n",
      "[13, 83.3915744515628]\n",
      "[14, 83.3915744515628]\n",
      "[15, 83.3915744515628]\n",
      "[16, 84.7777130654242]\n",
      "[17, 84.57969326344399]\n",
      "[18, 84.7777130654242]\n",
      "[19, 84.1836536594836]\n",
      "[20, 84.1836536594836]\n"
     ]
    }
   ],
   "source": [
    "import warnings\n",
    "warnings.filterwarnings('ignore')\n",
    "acc_leaf = []\n",
    "for x in range(21):\n",
    "    np.random.seed(48)\n",
    "    clf_dt = make_pipeline( StandardScaler(), tree.DecisionTreeClassifier(max_leaf_nodes=x))\n",
    "    accuracy_results = cross_val_score(clf_dt, X, y, cv=5, scoring = \"accuracy\")\n",
    "    acc_leaf.append([x, 100 * np.mean(accuracy_results)])\n",
    "    print(acc_leaf[x])"
   ]
  },
  {
   "cell_type": "code",
   "execution_count": 35,
   "id": "bfc23d73-51ed-4e38-b645-9e62c3d0b6a6",
   "metadata": {},
   "outputs": [],
   "source": [
    "np.random.seed(48)\n",
    "n_estimator = 100\n",
    "depth = 3"
   ]
  },
  {
   "cell_type": "code",
   "execution_count": 36,
   "id": "188ae0b1-7458-4dce-9306-7c8f3b9cd6a9",
   "metadata": {},
   "outputs": [
    {
     "name": "stdout",
     "output_type": "stream",
     "text": [
      "Average Accuracy when max_depth = 3:  89.91457969326345 %\n"
     ]
    }
   ],
   "source": [
    "clf_rf = ensemble.RandomForestClassifier(\n",
    "    n_estimators= n_estimator,\n",
    "    max_depth = depth)\n",
    "accuracy_results = cross_val_score(clf_rf, X, y, cv=5, scoring = \"accuracy\")\n",
    "print(\"Average Accuracy when max_depth = 3: \", 100 * np.mean(accuracy_results), \"%\")"
   ]
  },
  {
   "cell_type": "code",
   "execution_count": 38,
   "id": "15b36000-f210-4039-856a-d4df792ea356",
   "metadata": {},
   "outputs": [
    {
     "name": "stdout",
     "output_type": "stream",
     "text": [
      "Average Accuracy when max_depth = 3:  88.13240147544165 %\n",
      "Average Accuracy when max_depth = 3:  87.93438167346146 %\n",
      "Average Accuracy when max_depth = 3:  88.92448068336245 %\n",
      "Average Accuracy when max_depth = 3:  88.52844107940206 %\n",
      "Average Accuracy when max_depth = 3:  88.72646088138225 %\n",
      "Average Accuracy when max_depth = 3:  89.71655989128324 %\n",
      "Average Accuracy when max_depth = 3:  88.52844107940206 %\n",
      "Average Accuracy when max_depth = 3:  89.51854008930304 %\n",
      "Average Accuracy when max_depth = 3:  89.51854008930304 %\n",
      "Average Accuracy when max_depth = 3:  89.71655989128324 %\n"
     ]
    }
   ],
   "source": [
    "results_list = []\n",
    "for n_estimator in range(5,55,5):\n",
    "    clf_rf = ensemble.RandomForestClassifier(\n",
    "        n_estimators= n_estimator,\n",
    "        max_depth = depth)\n",
    "    accuracy_results = cross_val_score(clf_rf, X, y, cv=5, scoring = \"accuracy\")\n",
    "    print(\"Average Accuracy when max_depth = 3: \", 100 * np.mean(accuracy_results), \"%\")"
   ]
  },
  {
   "cell_type": "code",
   "execution_count": 41,
   "id": "17e2910b-b56b-4ba9-a096-2bda52f39a79",
   "metadata": {},
   "outputs": [
    {
     "name": "stdout",
     "output_type": "stream",
     "text": [
      "Average Accuracy when max_depth = 3:  83.99145796932635 %\n",
      "Average Accuracy when max_depth = 3:  84.77383032420889 %\n",
      "Average Accuracy when max_depth = 3:  82.9877693651718 %\n",
      "Average Accuracy when max_depth = 3:  83.185789167152 %\n",
      "Average Accuracy when max_depth = 3:  82.39370995923122 %\n",
      "Average Accuracy when max_depth = 3:  83.3838089691322 %\n",
      "Average Accuracy when max_depth = 3:  84.5680450397981 %\n",
      "Average Accuracy when max_depth = 3:  84.5680450397981 %\n",
      "Average Accuracy when max_depth = 3:  84.37002523781788 %\n",
      "Average Accuracy when max_depth = 3:  84.17200543583769 %\n"
     ]
    },
    {
     "data": {
      "text/plain": [
       "Text(0, 0.5, 'Accuracy / %')"
      ]
     },
     "execution_count": 41,
     "metadata": {},
     "output_type": "execute_result"
    },
    {
     "data": {
      "image/png": "[encoded data removed]",
      "text/plain": [
       "<Figure size 432x288 with 1 Axes>"
      ]
     },
     "metadata": {},
     "output_type": "display_data"
    }
   ],
   "source": [
    "# Go through different n_estimator\n",
    "\n",
    "results_list = []\n",
    "for n_estimator in range(5,55,5):\n",
    "    np.random.seed(100)\n",
    "    depth = 3\n",
    "    clf_adaboost = ensemble.AdaBoostClassifier(n_estimators = n_estimator,\n",
    "                                                  base_estimator = tree.DecisionTreeClassifier(\n",
    "                                                      max_depth= depth))\n",
    "    accuracy_results = cross_val_score(clf_adaboost, X, y, cv=5, scoring = \"accuracy\")\n",
    "    results_list.append([n_estimator, 100 * np.mean(accuracy_results)])\n",
    "    print(\"Average Accuracy when max_depth = 3: \", 100 * np.mean(accuracy_results), \"%\")\n",
    "df_results_list_adaboost = pd.DataFrame(results_list, columns=[\"n_estimator\", \"Acc\"])\n",
    "fig, ax = plt.subplots()\n",
    "df_results_list_rf.set_index(\"n_estimator\")[\"Acc\"].plot(ax = ax)\n",
    "ax.set_title(\"Classifiaction Results with Differnet n_estimator in random forest\")\n",
    "ax.set_xticks(list(range(5,55,5)))\n",
    "ax.set_ylabel(\"Accuracy / %\")"
   ]
  },
  {
   "cell_type": "code",
   "execution_count": 40,
   "id": "7ea4ca08-b719-4eaa-9e66-1187aa07e537",
   "metadata": {},
   "outputs": [
    {
     "name": "stdout",
     "output_type": "stream",
     "text": [
      "Average Accuracy when max_depth = 3:  88.33042127742186 %\n",
      "Average Accuracy when max_depth = 3:  88.52844107940206 %\n",
      "Average Accuracy when max_depth = 3:  88.72646088138225 %\n",
      "Average Accuracy when max_depth = 3:  88.13240147544165 %\n",
      "Average Accuracy when max_depth = 3:  89.71655989128324 %\n",
      "Average Accuracy when max_depth = 3:  89.91457969326345 %\n",
      "Average Accuracy when max_depth = 3:  89.71655989128324 %\n",
      "Average Accuracy when max_depth = 3:  89.91457969326345 %\n",
      "Average Accuracy when max_depth = 3:  89.32052028732285 %\n",
      "Average Accuracy when max_depth = 3:  88.33042127742186 %\n"
     ]
    },
    {
     "data": {
      "text/plain": [
       "Text(0, 0.5, 'Accuracy / %')"
      ]
     },
     "execution_count": 40,
     "metadata": {},
     "output_type": "execute_result"
    },
    {
     "data": {
      "image/png": "[encoded data removed]",
      "text/plain": [
       "<Figure size 432x288 with 1 Axes>"
      ]
     },
     "metadata": {},
     "output_type": "display_data"
    }
   ],
   "source": [
    "# Go through different n_estimator\n",
    "\n",
    "results_list = []\n",
    "for n_estimator in range(5,55,5):\n",
    "    np.random.seed(100)\n",
    "    depth = 3\n",
    "    clf_rf = ensemble.RandomForestClassifier(\n",
    "        n_estimators= n_estimator,\n",
    "        max_depth = depth)\n",
    "    accuracy_results = cross_val_score(clf_rf, X, y, cv=5, scoring = \"accuracy\")\n",
    "    results_list.append([n_estimator, 100 * np.mean(accuracy_results)])\n",
    "    print(\"Average Accuracy when max_depth = 3: \", 100 * np.mean(accuracy_results), \"%\")\n",
    "df_results_list_rf = pd.DataFrame(results_list, columns=[\"n_estimator\", \"Acc\"])\n",
    "# Visualization\n",
    "\n",
    "fig, ax = plt.subplots()\n",
    "df_results_list_rf.set_index(\"n_estimator\")[\"Acc\"].plot(ax = ax)\n",
    "ax.set_title(\"Classifiaction Results with Differnet n_estimator in random forest\")\n",
    "ax.set_xticks(list(range(5,55,5)))\n",
    "ax.set_ylabel(\"Accuracy / %\")\n"
   ]
  }
 ],
 "metadata": {
  "kernelspec": {
   "display_name": "Python 3 (ipykernel)",
   "language": "python",
   "name": "python3"
  },
  "language_info": {
   "codemirror_mode": {
    "name": "ipython",
    "version": 3
   },
   "file_extension": ".py",
   "mimetype": "text/x-python",
   "name": "python",
   "nbconvert_exporter": "python",
   "pygments_lexer": "ipython3",
   "version": "3.9.7"
  }
 },
 "nbformat": 4,
 "nbformat_minor": 5
}
